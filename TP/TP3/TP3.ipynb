{
 "cells": [
  {
   "cell_type": "code",
   "execution_count": 75,
   "id": "3699ce10",
   "metadata": {},
   "outputs": [],
   "source": [
    "# Importer les bibliothèques nécessaires\n",
    "import pandas as pd\n",
    "import numpy as np\n",
    "from sklearn.preprocessing import StandardScaler, MinMaxScaler\n",
    "import matplotlib.pyplot as plt"
   ]
  },
  {
   "cell_type": "code",
   "execution_count": 76,
   "id": "6a614567",
   "metadata": {},
   "outputs": [],
   "source": [
    "# Étape 1 : Télécharger les données depuis une URL\n",
    "file_path = \"https://cf-courses-data.s3.us.cloud-object-storage.appdomain.cloud/IBMDeveloperSkillsNetwork-DA0101EN-Coursera/laptop_pricing_dataset_mod1.csv\"\n",
    "\n",
    "# Récupérer les données de l'URL\n",
    "response = requests.get(file_path)\n",
    "\n",
    "# Vérifier si la requête a réussi\n",
    "if response.status_code == 200:\n",
    "    # Écrire les données dans un fichier CSV\n",
    "    with open(\"laptop_pricing_dataset.csv\", \"wb\") as file:\n",
    "        file.write(response.content)\n",
    "else:\n",
    "    print(f\"Erreur lors de la récupération des données : {response.status_code}\")"
   ]
  },
  {
   "cell_type": "code",
   "execution_count": null,
   "id": "928021bb",
   "metadata": {},
   "outputs": [
    {
     "name": "stdout",
     "output_type": "stream",
     "text": [
      "   Unnamed: 0 Manufacturer  Category     Screen  GPU  OS  CPU_core  \\\n",
      "0           0         Acer         4  IPS Panel    2   1         5   \n",
      "1           1         Dell         3    Full HD    1   1         3   \n",
      "2           2         Dell         3    Full HD    1   1         7   \n",
      "3           3         Dell         4  IPS Panel    2   1         5   \n",
      "4           4           HP         4    Full HD    2   1         7   \n",
      "\n",
      "   Screen_Size_cm  CPU_frequency  RAM_GB  Storage_GB_SSD  Weight_kg  Price  \n",
      "0          35.560            1.6       8             256       1.60    978  \n",
      "1          39.624            2.0       4             256       2.20    634  \n",
      "2          39.624            2.7       8             256       2.20    946  \n",
      "3          33.782            1.6       8             128       1.22   1244  \n",
      "4          39.624            1.8       8             256       1.91    837  \n"
     ]
    }
   ],
   "source": [
    "\n",
    "# Étape 2 : Charger les données dans un DataFrame\n",
    "df = pd.read_csv(\"laptop_pricing_dataset.csv\")\n",
    "\n",
    "# Afficher les premières lignes du DataFrame\n",
    "df.head()\n"
   ]
  },
  {
   "cell_type": "code",
   "execution_count": 78,
   "id": "d0963110",
   "metadata": {},
   "outputs": [
    {
     "name": "stdout",
     "output_type": "stream",
     "text": [
      "Valeurs manquantes par colonne :\n",
      " Unnamed: 0        0\n",
      "Manufacturer      0\n",
      "Category          0\n",
      "Screen            0\n",
      "GPU               0\n",
      "OS                0\n",
      "CPU_core          0\n",
      "Screen_Size_cm    4\n",
      "CPU_frequency     0\n",
      "RAM_GB            0\n",
      "Storage_GB_SSD    0\n",
      "Weight_kg         5\n",
      "Price             0\n",
      "dtype: int64\n"
     ]
    }
   ],
   "source": [
    "# Étape 3 : Arrondir les valeurs de la colonne Screen_Size_cm à 2 décimales\n",
    "df[['Screen_Size_cm']] = np.round(df[['Screen_Size_cm']], 2)\n",
    "\n",
    "# Vérifier les valeurs manquantes\n",
    "missing_values = df.isnull().sum()\n",
    "print(\"Valeurs manquantes par colonne :\\n\", missing_values)\n",
    "\n",
    "# Résultat : On observe des valeurs manquantes dans les colonnes Weight_kg et Screen_Size_cm."
   ]
  },
  {
   "cell_type": "code",
   "execution_count": 79,
   "id": "5c123c8d",
   "metadata": {},
   "outputs": [
    {
     "name": "stdout",
     "output_type": "stream",
     "text": [
      "Valeurs manquantes après traitement :\n",
      " Unnamed: 0        0\n",
      "Manufacturer      0\n",
      "Category          0\n",
      "Screen            0\n",
      "GPU               0\n",
      "OS                0\n",
      "CPU_core          0\n",
      "Screen_Size_cm    0\n",
      "CPU_frequency     0\n",
      "RAM_GB            0\n",
      "Storage_GB_SSD    0\n",
      "Weight_kg         0\n",
      "Price             0\n",
      "dtype: int64\n"
     ]
    },
    {
     "name": "stderr",
     "output_type": "stream",
     "text": [
      "C:\\Users\\yohar\\AppData\\Local\\Temp\\ipykernel_40332\\3137674852.py:2: FutureWarning: A value is trying to be set on a copy of a DataFrame or Series through chained assignment using an inplace method.\n",
      "The behavior will change in pandas 3.0. This inplace method will never work because the intermediate object on which we are setting values always behaves as a copy.\n",
      "\n",
      "For example, when doing 'df[col].method(value, inplace=True)', try using 'df.method({col: value}, inplace=True)' or df[col] = df[col].method(value) instead, to perform the operation inplace on the original object.\n",
      "\n",
      "\n",
      "  df['Screen_Size_cm'].fillna(df['Screen_Size_cm'].mean(), inplace=True)\n",
      "C:\\Users\\yohar\\AppData\\Local\\Temp\\ipykernel_40332\\3137674852.py:3: FutureWarning: A value is trying to be set on a copy of a DataFrame or Series through chained assignment using an inplace method.\n",
      "The behavior will change in pandas 3.0. This inplace method will never work because the intermediate object on which we are setting values always behaves as a copy.\n",
      "\n",
      "For example, when doing 'df[col].method(value, inplace=True)', try using 'df.method({col: value}, inplace=True)' or df[col] = df[col].method(value) instead, to perform the operation inplace on the original object.\n",
      "\n",
      "\n",
      "  df['Weight_kg'].fillna(df['Weight_kg'].mean(), inplace=True)\n"
     ]
    }
   ],
   "source": [
    "# Étape 4 : Remplir les valeurs manquantes avec la moyenne\n",
    "df['Screen_Size_cm'].fillna(df['Screen_Size_cm'].mean(), inplace=True)\n",
    "df['Weight_kg'].fillna(df['Weight_kg'].mean(), inplace=True)\n",
    "\n",
    "# Vérifier à nouveau les valeurs manquantes\n",
    "missing_values = df.isnull().sum()\n",
    "print(\"Valeurs manquantes après traitement :\\n\", missing_values)"
   ]
  },
  {
   "cell_type": "code",
   "execution_count": 80,
   "id": "88d5d53d",
   "metadata": {},
   "outputs": [
    {
     "name": "stdout",
     "output_type": "stream",
     "text": [
      "Unnamed: 0          int64\n",
      "Manufacturer       object\n",
      "Category            int64\n",
      "Screen             object\n",
      "GPU                 int64\n",
      "OS                  int64\n",
      "CPU_core            int64\n",
      "Screen_Size_cm    float64\n",
      "CPU_frequency     float64\n",
      "RAM_GB              int64\n",
      "Storage_GB_SSD      int64\n",
      "Weight_kg         float64\n",
      "Price               int64\n",
      "dtype: object\n"
     ]
    }
   ],
   "source": [
    "\n",
    "# Étape 5 : Convertir les colonnes numériques en type float\n",
    "df[[\"Weight_kg\", \"Screen_Size_cm\"]] = df[[\"Weight_kg\", \"Screen_Size_cm\"]].astype(\"float\")\n",
    "\n",
    "# Vérifier les types de données\n",
    "print(df.dtypes)"
   ]
  },
  {
   "cell_type": "code",
   "execution_count": 81,
   "id": "513e56e2",
   "metadata": {},
   "outputs": [
    {
     "name": "stdout",
     "output_type": "stream",
     "text": [
      "   Unnamed: 0 Manufacturer  Category     Screen  GPU  OS  CPU_core  \\\n",
      "0           0         Acer         4  IPS Panel    2   1         5   \n",
      "1           1         Dell         3    Full HD    1   1         3   \n",
      "2           2         Dell         3    Full HD    1   1         7   \n",
      "3           3         Dell         4  IPS Panel    2   1         5   \n",
      "4           4           HP         4    Full HD    2   1         7   \n",
      "\n",
      "   Screen_Size_cm  CPU_frequency  RAM_GB  Storage_GB_SSD  Weight_kg  Price  \n",
      "0       -0.581132            1.6       8             256  -0.537293    978  \n",
      "1        0.800358            2.0       4             256   0.692062    634  \n",
      "2        0.800358            2.7       8             256   0.692062    946  \n",
      "3       -1.186810            1.6       8             128  -1.315884   1244  \n",
      "4        0.800358            1.8       8             256   0.097874    837  \n"
     ]
    }
   ],
   "source": [
    "\n",
    "# Étape 6 : Standardiser les colonnes numériques\n",
    "numeric_columns = ['Screen_Size_cm', 'Weight_kg']\n",
    "scaler = StandardScaler()\n",
    "df[numeric_columns] = scaler.fit_transform(df[numeric_columns])\n",
    "\n",
    "# Afficher les premières lignes des données standardisées\n",
    "print(df.head())\n"
   ]
  },
  {
   "cell_type": "code",
   "execution_count": 82,
   "id": "4e7bc878",
   "metadata": {},
   "outputs": [
    {
     "name": "stdout",
     "output_type": "stream",
     "text": [
      "   Unnamed: 0 Manufacturer  Category     Screen  GPU  OS  CPU_core  \\\n",
      "0           0         Acer         4  IPS Panel    2   1         5   \n",
      "1           1         Dell         3    Full HD    1   1         3   \n",
      "2           2         Dell         3    Full HD    1   1         7   \n",
      "3           3         Dell         4  IPS Panel    2   1         5   \n",
      "4           4           HP         4    Full HD    2   1         7   \n",
      "\n",
      "   Screen_Size_cm  CPU_frequency  RAM_GB  Storage_GB_SSD  Weight_kg  Price  \n",
      "0        0.377415            1.6       8             256   0.283154    978  \n",
      "1        0.679049            2.0       4             256   0.498208    634  \n",
      "2        0.679049            2.7       8             256   0.498208    946  \n",
      "3        0.245171            1.6       8             128   0.146953   1244  \n",
      "4        0.679049            1.8       8             256   0.394265    837  \n"
     ]
    }
   ],
   "source": [
    "\n",
    "# Étape 7 : Normaliser les colonnes numériques\n",
    "min_max_scaler = MinMaxScaler()\n",
    "df[numeric_columns] = min_max_scaler.fit_transform(df[numeric_columns])\n",
    "\n",
    "# Afficher les premières lignes des données normalisées\n",
    "print(df.head())\n"
   ]
  },
  {
   "cell_type": "code",
   "execution_count": 83,
   "id": "73bfc08d",
   "metadata": {},
   "outputs": [
    {
     "data": {
      "image/png": "[encoded data removed]",
      "text/plain": [
       "<Figure size 640x480 with 1 Axes>"
      ]
     },
     "metadata": {},
     "output_type": "display_data"
    }
   ],
   "source": [
    "# Étape 8 : Créer des catégories pour la colonne Price\n",
    "bins = np.linspace(min(df[\"Price\"]), max(df[\"Price\"]), 4)\n",
    "group_names = ['Low', 'Medium', 'High']\n",
    "df['Price-binned'] = pd.cut(df['Price'], bins, labels=group_names, include_lowest=True)\n",
    "\n",
    "# Visualiser les catégories de prix\n",
    "plt.bar(group_names, df[\"Price-binned\"].value_counts())\n",
    "plt.xlabel(\"Price\")\n",
    "plt.ylabel(\"Count\")\n",
    "plt.title(\"Price bins\")\n",
    "plt.show()"
   ]
  },
  {
   "cell_type": "code",
   "execution_count": 84,
   "id": "a618068e",
   "metadata": {},
   "outputs": [
    {
     "data": {
      "text/html": [
       "<div>\n",
       "<style scoped>\n",
       "    .dataframe tbody tr th:only-of-type {\n",
       "        vertical-align: middle;\n",
       "    }\n",
       "\n",
       "    .dataframe tbody tr th {\n",
       "        vertical-align: top;\n",
       "    }\n",
       "\n",
       "    .dataframe thead th {\n",
       "        text-align: right;\n",
       "    }\n",
       "</style>\n",
       "<table border=\"1\" class=\"dataframe\">\n",
       "  <thead>\n",
       "    <tr style=\"text-align: right;\">\n",
       "      <th></th>\n",
       "      <th>Unnamed: 0</th>\n",
       "      <th>Manufacturer</th>\n",
       "      <th>Category</th>\n",
       "      <th>GPU</th>\n",
       "      <th>OS</th>\n",
       "      <th>CPU_core</th>\n",
       "      <th>Screen_Size_cm</th>\n",
       "      <th>CPU_frequency</th>\n",
       "      <th>RAM_GB</th>\n",
       "      <th>Storage_GB_SSD</th>\n",
       "      <th>Weight_kg</th>\n",
       "      <th>Price</th>\n",
       "      <th>Price-binned</th>\n",
       "      <th>Screen-Full_HD</th>\n",
       "      <th>Screen-IPS_panel</th>\n",
       "    </tr>\n",
       "  </thead>\n",
       "  <tbody>\n",
       "    <tr>\n",
       "      <th>0</th>\n",
       "      <td>0</td>\n",
       "      <td>Acer</td>\n",
       "      <td>4</td>\n",
       "      <td>2</td>\n",
       "      <td>1</td>\n",
       "      <td>5</td>\n",
       "      <td>0.377415</td>\n",
       "      <td>1.6</td>\n",
       "      <td>8</td>\n",
       "      <td>256</td>\n",
       "      <td>0.283154</td>\n",
       "      <td>978</td>\n",
       "      <td>Low</td>\n",
       "      <td>False</td>\n",
       "      <td>True</td>\n",
       "    </tr>\n",
       "    <tr>\n",
       "      <th>1</th>\n",
       "      <td>1</td>\n",
       "      <td>Dell</td>\n",
       "      <td>3</td>\n",
       "      <td>1</td>\n",
       "      <td>1</td>\n",
       "      <td>3</td>\n",
       "      <td>0.679049</td>\n",
       "      <td>2.0</td>\n",
       "      <td>4</td>\n",
       "      <td>256</td>\n",
       "      <td>0.498208</td>\n",
       "      <td>634</td>\n",
       "      <td>Low</td>\n",
       "      <td>True</td>\n",
       "      <td>False</td>\n",
       "    </tr>\n",
       "    <tr>\n",
       "      <th>2</th>\n",
       "      <td>2</td>\n",
       "      <td>Dell</td>\n",
       "      <td>3</td>\n",
       "      <td>1</td>\n",
       "      <td>1</td>\n",
       "      <td>7</td>\n",
       "      <td>0.679049</td>\n",
       "      <td>2.7</td>\n",
       "      <td>8</td>\n",
       "      <td>256</td>\n",
       "      <td>0.498208</td>\n",
       "      <td>946</td>\n",
       "      <td>Low</td>\n",
       "      <td>True</td>\n",
       "      <td>False</td>\n",
       "    </tr>\n",
       "    <tr>\n",
       "      <th>3</th>\n",
       "      <td>3</td>\n",
       "      <td>Dell</td>\n",
       "      <td>4</td>\n",
       "      <td>2</td>\n",
       "      <td>1</td>\n",
       "      <td>5</td>\n",
       "      <td>0.245171</td>\n",
       "      <td>1.6</td>\n",
       "      <td>8</td>\n",
       "      <td>128</td>\n",
       "      <td>0.146953</td>\n",
       "      <td>1244</td>\n",
       "      <td>Low</td>\n",
       "      <td>False</td>\n",
       "      <td>True</td>\n",
       "    </tr>\n",
       "    <tr>\n",
       "      <th>4</th>\n",
       "      <td>4</td>\n",
       "      <td>HP</td>\n",
       "      <td>4</td>\n",
       "      <td>2</td>\n",
       "      <td>1</td>\n",
       "      <td>7</td>\n",
       "      <td>0.679049</td>\n",
       "      <td>1.8</td>\n",
       "      <td>8</td>\n",
       "      <td>256</td>\n",
       "      <td>0.394265</td>\n",
       "      <td>837</td>\n",
       "      <td>Low</td>\n",
       "      <td>True</td>\n",
       "      <td>False</td>\n",
       "    </tr>\n",
       "  </tbody>\n",
       "</table>\n",
       "</div>"
      ],
      "text/plain": [
       "   Unnamed: 0 Manufacturer  Category  GPU  OS  CPU_core  Screen_Size_cm  \\\n",
       "0           0         Acer         4    2   1         5        0.377415   \n",
       "1           1         Dell         3    1   1         3        0.679049   \n",
       "2           2         Dell         3    1   1         7        0.679049   \n",
       "3           3         Dell         4    2   1         5        0.245171   \n",
       "4           4           HP         4    2   1         7        0.679049   \n",
       "\n",
       "   CPU_frequency  RAM_GB  Storage_GB_SSD  Weight_kg  Price Price-binned  \\\n",
       "0            1.6       8             256   0.283154    978          Low   \n",
       "1            2.0       4             256   0.498208    634          Low   \n",
       "2            2.7       8             256   0.498208    946          Low   \n",
       "3            1.6       8             128   0.146953   1244          Low   \n",
       "4            1.8       8             256   0.394265    837          Low   \n",
       "\n",
       "   Screen-Full_HD  Screen-IPS_panel  \n",
       "0           False              True  \n",
       "1            True             False  \n",
       "2            True             False  \n",
       "3           False              True  \n",
       "4            True             False  "
      ]
     },
     "execution_count": 84,
     "metadata": {},
     "output_type": "execute_result"
    }
   ],
   "source": [
    "# Étape 9 : Créer des variables indicatrices pour la colonne Screen\n",
    "dummy_variable_1 = pd.get_dummies(df[\"Screen\"])\n",
    "dummy_variable_1.rename(columns={'IPS Panel': 'Screen-IPS_panel', 'Full HD': 'Screen-Full_HD'}, inplace=True)\n",
    "df = pd.concat([df, dummy_variable_1], axis=1)\n",
    "\n",
    "# Supprimer la colonne originale Screen\n",
    "df.drop(\"Screen\", axis=1, inplace=True)\n",
    "\n",
    "# Afficher les premières lignes du DataFrame final\n",
    "df.head()"
   ]
  }
 ],
 "metadata": {
  "kernelspec": {
   "display_name": "base",
   "language": "python",
   "name": "python3"
  },
  "language_info": {
   "codemirror_mode": {
    "name": "ipython",
    "version": 3
   },
   "file_extension": ".py",
   "mimetype": "text/x-python",
   "name": "python",
   "nbconvert_exporter": "python",
   "pygments_lexer": "ipython3",
   "version": "3.10.14"
  }
 },
 "nbformat": 4,
 "nbformat_minor": 5
}
